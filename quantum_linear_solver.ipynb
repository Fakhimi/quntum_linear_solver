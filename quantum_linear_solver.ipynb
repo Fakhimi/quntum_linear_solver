{
  "nbformat": 4,
  "nbformat_minor": 0,
  "metadata": {
    "colab": {
      "name": "quantum_linear_solver.ipynb",
      "provenance": [],
      "collapsed_sections": []
    },
    "kernelspec": {
      "name": "python3",
      "display_name": "Python 3"
    }
  },
  "cells": [
    {
      "cell_type": "markdown",
      "metadata": {
        "id": "xIK-CmwU6pQY",
        "colab_type": "text"
      },
      "source": [
        "**Ramin Fakhimi** \\\\\n",
        "PhD student at ISE department of Lehigh University\n"
      ]
    },
    {
      "cell_type": "code",
      "metadata": {
        "id": "IPvetvuIRYKP",
        "colab_type": "code",
        "colab": {}
      },
      "source": [
        "# Install qiskit package\n",
        "!pip install qiskit\n",
        "\n",
        "from IPython.display import clear_output\n",
        "clear_output()"
      ],
      "execution_count": null,
      "outputs": []
    },
    {
      "cell_type": "markdown",
      "metadata": {
        "id": "ZrZsCRJM7Euw",
        "colab_type": "text"
      },
      "source": [
        "This is an implementation of HHL algorithm for solving 4 by 4 linear systems. \n",
        "\n",
        "\n",
        "The quantum circuit is proposed by Cao et. al. \\\\\n",
        "https://arxiv.org/pdf/1110.2232v2.pdf"
      ]
    },
    {
      "cell_type": "code",
      "metadata": {
        "id": "bmoZ68C5Rp2I",
        "colab_type": "code",
        "colab": {
          "base_uri": "https://localhost:8080/",
          "height": 119
        },
        "outputId": "b8773a54-4475-48eb-ad2e-091aababa08b"
      },
      "source": [
        "# Import libraries\n",
        "from qiskit import *\n",
        "from qiskit.quantum_info.operators import Operator\n",
        "from qiskit.extensions import *\n",
        "from qiskit.visualization import plot_histogram\n",
        "from qiskit.circuit.library import SwapGate, RYGate, QFT\n",
        "\n",
        "import numpy as np\n",
        "from numpy import linalg as LA\n",
        "\n",
        "from copy import deepcopy\n",
        "\n",
        "%matplotlib inline\n",
        "qiskit.__qiskit_version__"
      ],
      "execution_count": null,
      "outputs": [
        {
          "output_type": "execute_result",
          "data": {
            "text/plain": [
              "{'qiskit': None,\n",
              " 'qiskit-aer': '0.5.2',\n",
              " 'qiskit-aqua': '0.7.3',\n",
              " 'qiskit-ibmq-provider': '0.7.2',\n",
              " 'qiskit-ignis': '0.3.3',\n",
              " 'qiskit-terra': '0.14.2'}"
            ]
          },
          "metadata": {
            "tags": []
          },
          "execution_count": 2
        }
      ]
    },
    {
      "cell_type": "code",
      "metadata": {
        "id": "Yfu-xDwgp5Ht",
        "colab_type": "code",
        "colab": {
          "base_uri": "https://localhost:8080/",
          "height": 34
        },
        "outputId": "331616d7-7e74-413a-b978-8b2ebe9c9fe7"
      },
      "source": [
        "# Check the hermitian matrix\n",
        "def check_hermitian(mat):\n",
        "  if np.allclose(mat, mat.T.conjugate(), rtol=1e-05, atol=1e-08):\n",
        "    print(\"Please set the parameters!\")\n",
        "  else:\n",
        "    print(\"Sorry! The input matrix should be Hermitian.\")\n",
        "\n",
        "print(\"Please define the problem.\")"
      ],
      "execution_count": null,
      "outputs": [
        {
          "output_type": "stream",
          "text": [
            "Please define the problem.\n"
          ],
          "name": "stdout"
        }
      ]
    },
    {
      "cell_type": "code",
      "metadata": {
        "id": "LHvo8FF8pmtW",
        "colab_type": "code",
        "colab": {
          "base_uri": "https://localhost:8080/",
          "height": 34
        },
        "outputId": "e49bf3d0-f0b5-4885-9452-3f66363d0fc9"
      },
      "source": [
        "# Define linear system\n",
        "# A = 0.25*np.array([[15.,9,5,-3],[9,15,3,-5],[5.,3,15,-9],[-3.,-5,-9,15]])\n",
        "# b = 0.5*np.array([1,1,1,1]).T\n",
        "\n",
        "A = np.array([[0, 1, 1, 0], [1, -1, 0, 0], [1, 0, -.5, 0], [0,0,0,1]])\n",
        "b = np.array([0, 0, -.5, 0])\n",
        "\n",
        "# Normalize vector b\n",
        "norm_b = LA.norm(b)\n",
        "A = A / norm_b\n",
        "b = b / norm_b\n",
        "\n",
        "# Exact solution \n",
        "csol = LA.solve(A,b)\n",
        "check_hermitian(A) "
      ],
      "execution_count": null,
      "outputs": [
        {
          "output_type": "stream",
          "text": [
            "Please set the parameters!\n"
          ],
          "name": "stdout"
        }
      ]
    },
    {
      "cell_type": "code",
      "metadata": {
        "id": "BM4XtDSUXYGa",
        "colab_type": "code",
        "colab": {
          "base_uri": "https://localhost:8080/",
          "height": 34
        },
        "outputId": "7ac34134-a54b-4087-d406-c4ecead8f791"
      },
      "source": [
        "LA.cond(A)\n",
        "LA.eigvals(A)"
      ],
      "execution_count": null,
      "outputs": [
        {
          "output_type": "execute_result",
          "data": {
            "text/plain": [
              "array([ 2.20147234, -3.74656825, -1.45490409,  2.        ])"
            ]
          },
          "metadata": {
            "tags": []
          },
          "execution_count": 17
        }
      ]
    },
    {
      "cell_type": "code",
      "metadata": {
        "id": "G_JJlQRzTlbK",
        "colab_type": "code",
        "colab": {
          "base_uri": "https://localhost:8080/",
          "height": 34
        },
        "outputId": "e1b1922d-c543-4fe6-fb34-192d2c9f8766"
      },
      "source": [
        "# Parameters\n",
        "c_num = 4\n",
        "b_num = int(np.log2(len(b)))\n",
        "\n",
        "t = 2*np.pi               # hamiltonain param\n",
        "r = 5                     # rotation param better to set to 5\n",
        "\n",
        "shots = 30000             # total number of running the circuit\n",
        "print(\"Please run the quantum circuit function.\")"
      ],
      "execution_count": null,
      "outputs": [
        {
          "output_type": "stream",
          "text": [
            "Please run the quantum circuit function.\n"
          ],
          "name": "stdout"
        }
      ]
    },
    {
      "cell_type": "code",
      "metadata": {
        "id": "fWlE2DynsgRD",
        "colab_type": "code",
        "colab": {
          "base_uri": "https://localhost:8080/",
          "height": 34
        },
        "outputId": "71cb7747-e111-488c-c596-c19ead3b1ff5"
      },
      "source": [
        "#================== Quantum circuit ==================\n",
        "\n",
        "def run_quantum_circuit(r,t):\n",
        "  # Qubits\n",
        "  ancilla_qbit = QuantumRegister(1,'ancilla')\n",
        "  c_qreg = QuantumRegister(c_num,name='regC')\n",
        "  b_qreg = QuantumRegister(b_num,name='regb')\n",
        "\n",
        "  # Classical bits\n",
        "  ancilla_cbit = ClassicalRegister(1,name='ancilla\\_c')\n",
        "  b_creg = ClassicalRegister(b_num,name='regb\\_c')\n",
        "\n",
        "  # Create an empty circuit\n",
        "  circ = QuantumCircuit(ancilla_qbit, c_qreg, b_qreg, ancilla_cbit, b_creg)\n",
        "\n",
        "\n",
        "  # Intitialize state b\n",
        "  init = Initialize(list(b))\n",
        "  circ.append(init,b_qreg)\n",
        "  circ.draw()\n",
        "\n",
        "  # Apply Hadamard on register C\n",
        "  circ.h(c_qreg)\n",
        "\n",
        "  # Apply controlled-Hamiltonian operators on register b\n",
        "  for i in range(c_num):\n",
        "    time = t/(2**(c_num-i))\n",
        "    U = HamiltonianGate(A, time)\n",
        "    G = U.control(1)\n",
        "    qubit = [i+1]+[c_num+j+1 for j in range(b_num)]\n",
        "    circ.append(G,qubit)\n",
        "\n",
        "  # Apply inverse quantum Fourier Transform\n",
        "  iqft = QFT(c_num,approximation_degree=0, do_swaps=True, inverse=True,name='IQFT')\n",
        "  circ.append(iqft,c_qreg)\n",
        "\n",
        "  # Swap the qubits in register C\n",
        "  G = SwapGate()\n",
        "  circ.append(G,[c_qreg[1],c_qreg[c_num-1]])\n",
        "\n",
        "  # Apply y rotations on Ancilla qubit\n",
        "  for i in range(c_num):\n",
        "    theta = (2**(c_num - r - i)) *np.pi\n",
        "    U = RYGate(theta).control(1)\n",
        "    circ.append(U,[i+1,0])\n",
        "\n",
        "  # ================ Uncompute the circuit ================\n",
        "\n",
        "  # Swap the qubits in register C\n",
        "  G = SwapGate()\n",
        "  circ.append(G,[c_qreg[1],c_qreg[c_num-1]])\n",
        "\n",
        "  # Apply quantum Fourier Transform\n",
        "  qft = QFT(c_num,approximation_degree=0, do_swaps=True, inverse=False, name='QFT')\n",
        "  circ.append(qft,c_qreg)\n",
        "\n",
        "\n",
        "  # Apply inverse controlled-Hamiltonian operators on register b\n",
        "  for i in range(c_num-1,-1,-1):\n",
        "    time = t/(2**(c_num-i))\n",
        "    U = HamiltonianGate(-A, time)\n",
        "    G = U.control(1)\n",
        "    qubit = [i+1]+[c_num+j+1 for j in range(b_num)]\n",
        "    circ.append(G,qubit)\n",
        "\n",
        "\n",
        "  # Apply Hadamard on register C\n",
        "  circ.h(c_qreg)\n",
        "\n",
        "  # Measure the qubits\n",
        "  circ.measure(ancilla_qbit,ancilla_cbit)\n",
        "  circ.measure(b_qreg,b_creg)\n",
        "\n",
        "  # Run on local simulator\n",
        "  backend = Aer.get_backend(\"qasm_simulator\")\n",
        "\n",
        "  simulate = execute(circ, backend=backend, shots=shots)\n",
        "  results = simulate.result()\n",
        "\n",
        "  return (results.get_counts(), circ)\n",
        "  \n",
        "print(\"Please define the quantum solution extraction function.\")"
      ],
      "execution_count": null,
      "outputs": [
        {
          "output_type": "stream",
          "text": [
            "Please define the quantum solution extraction function.\n"
          ],
          "name": "stdout"
        }
      ]
    },
    {
      "cell_type": "code",
      "metadata": {
        "id": "NN4ceauepATT",
        "colab_type": "code",
        "colab": {
          "base_uri": "https://localhost:8080/",
          "height": 34
        },
        "outputId": "c4060114-fd20-4663-e15f-2abd3974a005"
      },
      "source": [
        "# Extract approximate solution of the quantum linear solver\n",
        "def approximate_quantum_sol(sol,b_num):\n",
        "  num = 0\n",
        "  app_sol = np.zeros(2**(b_num))\n",
        "\n",
        "  for key, value in sol.items(): \n",
        "    if key[-1] == '1':\n",
        "      num += value \n",
        "      cord = int(key[:b_num],base=2)\n",
        "      app_sol[cord] = value\n",
        "  \n",
        "  app_sol = 1/num *app_sol\n",
        "  return app_sol\n",
        "\n",
        "print(\"Please run the quantum solver.\")\n"
      ],
      "execution_count": null,
      "outputs": [
        {
          "output_type": "stream",
          "text": [
            "Please run the quantum solver.\n"
          ],
          "name": "stdout"
        }
      ]
    },
    {
      "cell_type": "code",
      "metadata": {
        "id": "meTXKnrec1g_",
        "colab_type": "code",
        "colab": {
          "base_uri": "https://localhost:8080/",
          "height": 500
        },
        "outputId": "fa70a72d-28b0-4f7f-8dfc-ef397309c268"
      },
      "source": [
        "# Do the experiment\n",
        "result, circ = run_quantum_circuit(r = 6, t = 3*np.pi)\n",
        "qsol = approximate_quantum_sol(result,b_num)\n",
        "\n",
        "print(\"============================== Final results ==============================\\n\")\n",
        "print ('Exact solution = ', csol)\n",
        "print('Quantum solver solution = ', qsol)\n",
        "print('Norm of difference = ', LA.norm(qsol- csol),'\\n')\n",
        "\n",
        "plot_histogram(result,figsize = (8,6),bar_labels = True)"
      ],
      "execution_count": null,
      "outputs": [
        {
          "output_type": "stream",
          "text": [
            "============================== Final results ==============================\n",
            "\n",
            "Exact solution =  [-0.33333333 -0.33333333  0.33333333  0.        ]\n",
            "Quantum solver solution =  [0.09964342 0.07448494 0.82587163 0.        ]\n",
            "Norm of difference =  0.7722555246703933 \n",
            "\n"
          ],
          "name": "stdout"
        },
        {
          "output_type": "execute_result",
          "data": {
            "image/png": "[encoded data removed]",
            "text/plain": [
              "<Figure size 576x432 with 1 Axes>"
            ]
          },
          "metadata": {
            "tags": []
          },
          "execution_count": 24
        }
      ]
    },
    {
      "cell_type": "code",
      "metadata": {
        "id": "X44zXs0JvBy5",
        "colab_type": "code",
        "colab": {
          "base_uri": "https://localhost:8080/",
          "height": 1000
        },
        "outputId": "8c58dea0-025a-49e7-a0c3-ad7f957ea888"
      },
      "source": [
        "# Draw the quantum circuit\n",
        "print(\"============================== Circuit structure ============================== \\n\")\n",
        "circ.draw()"
      ],
      "execution_count": null,
      "outputs": [
        {
          "output_type": "stream",
          "text": [
            "============================== Circuit structure ============================== \n",
            "\n"
          ],
          "name": "stdout"
        },
        {
          "output_type": "execute_result",
          "data": {
            "text/html": [
              "<pre style=\"word-wrap: normal;white-space: pre;background: #fff0;line-height: 1.1;font-family: &quot;Courier New&quot;,Courier,monospace\">                                                                       »\n",
              "   ancilla_0: ─────────────────────────────────────────────────────────»\n",
              "                        ┌───┐                                          »\n",
              "      regC_0: ──────────┤ H ├─────────────────■────────────────────────»\n",
              "                        ├───┤                 │                        »\n",
              "      regC_1: ──────────┤ H ├─────────────────┼───────────────■────────»\n",
              "                        ├───┤                 │               │        »\n",
              "      regC_2: ──────────┤ H ├─────────────────┼───────────────┼────────»\n",
              "                        ├───┤                 │               │        »\n",
              "      regC_3: ──────────┤ H ├─────────────────┼───────────────┼────────»\n",
              "              ┌─────────┴───┴─────────┐┌──────┴───────┐┌──────┴───────┐»\n",
              "      regb_0: ┤0                      ├┤0             ├┤0             ├»\n",
              "              │  initialize(0,0,-1,0) ││  Hamiltonian ││  Hamiltonian │»\n",
              "      regb_1: ┤1                      ├┤1             ├┤1             ├»\n",
              "              └───────────────────────┘└──────────────┘└──────────────┘»\n",
              "ancilla\\_c_0: ═════════════════════════════════════════════════════════»\n",
              "                                                                       »\n",
              "   regb\\_c_0: ═════════════════════════════════════════════════════════»\n",
              "                                                                       »\n",
              "   regb\\_c_1: ═════════════════════════════════════════════════════════»\n",
              "                                                                       »\n",
              "«                                                       ┌──────────┐»\n",
              "«   ancilla_0: ─────────────────────────────────────────┤ RY(pi/2) ├»\n",
              "«                                              ┌───────┐└────┬─────┘»\n",
              "«      regC_0: ────────────────────────────────┤0      ├─────■──────»\n",
              "«                                              │       │            »\n",
              "«      regC_1: ────────────────────────────────┤1      ├─────X──────»\n",
              "«                                              │  IQFT │     │      »\n",
              "«      regC_2: ───────■────────────────────────┤2      ├─────┼──────»\n",
              "«                     │                        │       │     │      »\n",
              "«      regC_3: ───────┼───────────────■────────┤3      ├─────X──────»\n",
              "«              ┌──────┴───────┐┌──────┴───────┐└───────┘            »\n",
              "«      regb_0: ┤0             ├┤0             ├─────────────────────»\n",
              "«              │  Hamiltonian ││  Hamiltonian │                     »\n",
              "«      regb_1: ┤1             ├┤1             ├─────────────────────»\n",
              "«              └──────────────┘└──────────────┘                     »\n",
              "«ancilla\\_c_0: ═════════════════════════════════════════════════════»\n",
              "«                                                                   »\n",
              "«   regb\\_c_0: ═════════════════════════════════════════════════════»\n",
              "«                                                                   »\n",
              "«   regb\\_c_1: ═════════════════════════════════════════════════════»\n",
              "«                                                                   »\n",
              "«              ┌──────────┐┌──────────┐┌───────────┐   ┌─┐        »\n",
              "«   ancilla_0: ┤ RY(pi/4) ├┤ RY(pi/8) ├┤ RY(pi/16) ├───┤M├────────»\n",
              "«              └────┬─────┘└────┬─────┘└─────┬─────┘   └╥┘┌──────┐»\n",
              "«      regC_0: ─────┼───────────┼────────────┼──────────╫─┤0     ├»\n",
              "«                   │           │            │          ║ │      │»\n",
              "«      regC_1: ─────■───────────┼────────────┼───────X──╫─┤1     ├»\n",
              "«                               │            │       │  ║ │  QFT │»\n",
              "«      regC_2: ─────────────────■────────────┼───────┼──╫─┤2     ├»\n",
              "«                                            │       │  ║ │      │»\n",
              "«      regC_3: ──────────────────────────────■───────X──╫─┤3     ├»\n",
              "«                                                       ║ └──────┘»\n",
              "«      regb_0: ─────────────────────────────────────────╫─────────»\n",
              "«                                                       ║         »\n",
              "«      regb_1: ─────────────────────────────────────────╫─────────»\n",
              "«                                                       ║         »\n",
              "«ancilla\\_c_0: ═════════════════════════════════════════╩═════════»\n",
              "«                                                                 »\n",
              "«   regb\\_c_0: ═══════════════════════════════════════════════════»\n",
              "«                                                                 »\n",
              "«   regb\\_c_1: ═══════════════════════════════════════════════════»\n",
              "«                                                                 »\n",
              "«                                                                   »\n",
              "«   ancilla_0: ─────────────────────────────────────────────────────»\n",
              "«                                                                   »\n",
              "«      regC_0: ─────────────────────────────────────────────────────»\n",
              "«                                                                   »\n",
              "«      regC_1: ────────────────────────────────────────────■────────»\n",
              "«                                              ┌───┐       │        »\n",
              "«      regC_2: ───────────────────────■────────┤ H ├───────┼────────»\n",
              "«                                     │        ├───┤       │        »\n",
              "«      regC_3: ───────■───────────────┼────────┤ H ├───────┼────────»\n",
              "«              ┌──────┴───────┐┌──────┴───────┐└───┘┌──────┴───────┐»\n",
              "«      regb_0: ┤0             ├┤0             ├─────┤0             ├»\n",
              "«              │  Hamiltonian ││  Hamiltonian │     │  Hamiltonian │»\n",
              "«      regb_1: ┤1             ├┤1             ├─────┤1             ├»\n",
              "«              └──────────────┘└──────────────┘     └──────────────┘»\n",
              "«ancilla\\_c_0: ═════════════════════════════════════════════════════»\n",
              "«                                                                   »\n",
              "«   regb\\_c_0: ═════════════════════════════════════════════════════»\n",
              "«                                                                   »\n",
              "«   regb\\_c_1: ═════════════════════════════════════════════════════»\n",
              "«                                                                   »\n",
              "«                                      \n",
              "«   ancilla_0: ────────────────────────\n",
              "«                              ┌───┐   \n",
              "«      regC_0: ───────■────────┤ H ├───\n",
              "«                     │        ├───┤   \n",
              "«      regC_1: ───────┼────────┤ H ├───\n",
              "«                     │        └───┘   \n",
              "«      regC_2: ───────┼────────────────\n",
              "«                     │                \n",
              "«      regC_3: ───────┼────────────────\n",
              "«              ┌──────┴───────┐ ┌─┐    \n",
              "«      regb_0: ┤0             ├─┤M├────\n",
              "«              │  Hamiltonian │ └╥┘ ┌─┐\n",
              "«      regb_1: ┤1             ├──╫──┤M├\n",
              "«              └──────────────┘  ║  └╥┘\n",
              "«ancilla\\_c_0: ══════════════════╬═══╬═\n",
              "«                                ║   ║ \n",
              "«   regb\\_c_0: ══════════════════╩═══╬═\n",
              "«                                    ║ \n",
              "«   regb\\_c_1: ══════════════════════╩═\n",
              "«                                      </pre>"
            ],
            "text/plain": [
              "                                                                       »\n",
              "   ancilla_0: ─────────────────────────────────────────────────────────»\n",
              "                        ┌───┐                                          »\n",
              "      regC_0: ──────────┤ H ├─────────────────■────────────────────────»\n",
              "                        ├───┤                 │                        »\n",
              "      regC_1: ──────────┤ H ├─────────────────┼───────────────■────────»\n",
              "                        ├───┤                 │               │        »\n",
              "      regC_2: ──────────┤ H ├─────────────────┼───────────────┼────────»\n",
              "                        ├───┤                 │               │        »\n",
              "      regC_3: ──────────┤ H ├─────────────────┼───────────────┼────────»\n",
              "              ┌─────────┴───┴─────────┐┌──────┴───────┐┌──────┴───────┐»\n",
              "      regb_0: ┤0                      ├┤0             ├┤0             ├»\n",
              "              │  initialize(0,0,-1,0) ││  Hamiltonian ││  Hamiltonian │»\n",
              "      regb_1: ┤1                      ├┤1             ├┤1             ├»\n",
              "              └───────────────────────┘└──────────────┘└──────────────┘»\n",
              "ancilla\\_c_0: ═════════════════════════════════════════════════════════»\n",
              "                                                                       »\n",
              "   regb\\_c_0: ═════════════════════════════════════════════════════════»\n",
              "                                                                       »\n",
              "   regb\\_c_1: ═════════════════════════════════════════════════════════»\n",
              "                                                                       »\n",
              "«                                                       ┌──────────┐»\n",
              "«   ancilla_0: ─────────────────────────────────────────┤ RY(pi/2) ├»\n",
              "«                                              ┌───────┐└────┬─────┘»\n",
              "«      regC_0: ────────────────────────────────┤0      ├─────■──────»\n",
              "«                                              │       │            »\n",
              "«      regC_1: ────────────────────────────────┤1      ├─────X──────»\n",
              "«                                              │  IQFT │     │      »\n",
              "«      regC_2: ───────■────────────────────────┤2      ├─────┼──────»\n",
              "«                     │                        │       │     │      »\n",
              "«      regC_3: ───────┼───────────────■────────┤3      ├─────X──────»\n",
              "«              ┌──────┴───────┐┌──────┴───────┐└───────┘            »\n",
              "«      regb_0: ┤0             ├┤0             ├─────────────────────»\n",
              "«              │  Hamiltonian ││  Hamiltonian │                     »\n",
              "«      regb_1: ┤1             ├┤1             ├─────────────────────»\n",
              "«              └──────────────┘└──────────────┘                     »\n",
              "«ancilla\\_c_0: ═════════════════════════════════════════════════════»\n",
              "«                                                                   »\n",
              "«   regb\\_c_0: ═════════════════════════════════════════════════════»\n",
              "«                                                                   »\n",
              "«   regb\\_c_1: ═════════════════════════════════════════════════════»\n",
              "«                                                                   »\n",
              "«              ┌──────────┐┌──────────┐┌───────────┐   ┌─┐        »\n",
              "«   ancilla_0: ┤ RY(pi/4) ├┤ RY(pi/8) ├┤ RY(pi/16) ├───┤M├────────»\n",
              "«              └────┬─────┘└────┬─────┘└─────┬─────┘   └╥┘┌──────┐»\n",
              "«      regC_0: ─────┼───────────┼────────────┼──────────╫─┤0     ├»\n",
              "«                   │           │            │          ║ │      │»\n",
              "«      regC_1: ─────■───────────┼────────────┼───────X──╫─┤1     ├»\n",
              "«                               │            │       │  ║ │  QFT │»\n",
              "«      regC_2: ─────────────────■────────────┼───────┼──╫─┤2     ├»\n",
              "«                                            │       │  ║ │      │»\n",
              "«      regC_3: ──────────────────────────────■───────X──╫─┤3     ├»\n",
              "«                                                       ║ └──────┘»\n",
              "«      regb_0: ─────────────────────────────────────────╫─────────»\n",
              "«                                                       ║         »\n",
              "«      regb_1: ─────────────────────────────────────────╫─────────»\n",
              "«                                                       ║         »\n",
              "«ancilla\\_c_0: ═════════════════════════════════════════╩═════════»\n",
              "«                                                                 »\n",
              "«   regb\\_c_0: ═══════════════════════════════════════════════════»\n",
              "«                                                                 »\n",
              "«   regb\\_c_1: ═══════════════════════════════════════════════════»\n",
              "«                                                                 »\n",
              "«                                                                   »\n",
              "«   ancilla_0: ─────────────────────────────────────────────────────»\n",
              "«                                                                   »\n",
              "«      regC_0: ─────────────────────────────────────────────────────»\n",
              "«                                                                   »\n",
              "«      regC_1: ────────────────────────────────────────────■────────»\n",
              "«                                              ┌───┐       │        »\n",
              "«      regC_2: ───────────────────────■────────┤ H ├───────┼────────»\n",
              "«                                     │        ├───┤       │        »\n",
              "«      regC_3: ───────■───────────────┼────────┤ H ├───────┼────────»\n",
              "«              ┌──────┴───────┐┌──────┴───────┐└───┘┌──────┴───────┐»\n",
              "«      regb_0: ┤0             ├┤0             ├─────┤0             ├»\n",
              "«              │  Hamiltonian ││  Hamiltonian │     │  Hamiltonian │»\n",
              "«      regb_1: ┤1             ├┤1             ├─────┤1             ├»\n",
              "«              └──────────────┘└──────────────┘     └──────────────┘»\n",
              "«ancilla\\_c_0: ═════════════════════════════════════════════════════»\n",
              "«                                                                   »\n",
              "«   regb\\_c_0: ═════════════════════════════════════════════════════»\n",
              "«                                                                   »\n",
              "«   regb\\_c_1: ═════════════════════════════════════════════════════»\n",
              "«                                                                   »\n",
              "«                                      \n",
              "«   ancilla_0: ────────────────────────\n",
              "«                              ┌───┐   \n",
              "«      regC_0: ───────■────────┤ H ├───\n",
              "«                     │        ├───┤   \n",
              "«      regC_1: ───────┼────────┤ H ├───\n",
              "«                     │        └───┘   \n",
              "«      regC_2: ───────┼────────────────\n",
              "«                     │                \n",
              "«      regC_3: ───────┼────────────────\n",
              "«              ┌──────┴───────┐ ┌─┐    \n",
              "«      regb_0: ┤0             ├─┤M├────\n",
              "«              │  Hamiltonian │ └╥┘ ┌─┐\n",
              "«      regb_1: ┤1             ├──╫──┤M├\n",
              "«              └──────────────┘  ║  └╥┘\n",
              "«ancilla\\_c_0: ══════════════════╬═══╬═\n",
              "«                                ║   ║ \n",
              "«   regb\\_c_0: ══════════════════╩═══╬═\n",
              "«                                    ║ \n",
              "«   regb\\_c_1: ══════════════════════╩═\n",
              "«                                      "
            ]
          },
          "metadata": {
            "tags": []
          },
          "execution_count": 22
        }
      ]
    }
  ]
}